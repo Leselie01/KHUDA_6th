{
 "cells": [
  {
   "cell_type": "markdown",
   "id": "94dcda5c",
   "metadata": {},
   "source": [
    "# 7장: 물류 네트워크 최적 설계를 위한 테크닉 10"
   ]
  },
  {
   "cell_type": "markdown",
   "id": "9de8f02a",
   "metadata": {},
   "source": [
    "## 61: 운송 최적화 문제 풀기"
   ]
  },
  {
   "cell_type": "code",
   "execution_count": 1,
   "id": "c124dbb8",
   "metadata": {},
   "outputs": [],
   "source": [
    "import warnings\n",
    "warnings.filterwarnings('ignore')"
   ]
  },
  {
   "cell_type": "markdown",
   "id": "4dbc7a27",
   "metadata": {},
   "source": [
    "pulp: 선형 계획법 모델링에 사용되는 라이브러리"
   ]
  },
  {
   "cell_type": "code",
   "execution_count": 2,
   "id": "3546f24d",
   "metadata": {},
   "outputs": [
    {
     "name": "stdout",
     "output_type": "stream",
     "text": [
      "Requirement already satisfied: pulp in c:\\users\\cyg01\\anaconda3\\lib\\site-packages (2.9.0)\n"
     ]
    }
   ],
   "source": [
    "!pip install pulp"
   ]
  },
  {
   "cell_type": "markdown",
   "id": "6f227776",
   "metadata": {},
   "source": [
    "ortoolpy: 선형 계획 문제를 보다 쉽게 처리하기 위해 제공되는 utility 함수 모음"
   ]
  },
  {
   "cell_type": "code",
   "execution_count": 3,
   "id": "65156bb1",
   "metadata": {},
   "outputs": [
    {
     "name": "stdout",
     "output_type": "stream",
     "text": [
      "Requirement already satisfied: ortoolpy in c:\\users\\cyg01\\anaconda3\\lib\\site-packages (0.6.4)\n",
      "Requirement already satisfied: more-itertools<11.0,>=10.1 in c:\\users\\cyg01\\anaconda3\\lib\\site-packages (from ortoolpy) (10.1.0)\n",
      "Requirement already satisfied: pandas>=1.5.3 in c:\\users\\cyg01\\anaconda3\\lib\\site-packages (from ortoolpy) (2.1.4)\n",
      "Requirement already satisfied: pulp<3.0,>=2.7 in c:\\users\\cyg01\\anaconda3\\lib\\site-packages (from ortoolpy) (2.9.0)\n",
      "Requirement already satisfied: numpy<2,>=1.23.2 in c:\\users\\cyg01\\anaconda3\\lib\\site-packages (from pandas>=1.5.3->ortoolpy) (1.26.4)\n",
      "Requirement already satisfied: python-dateutil>=2.8.2 in c:\\users\\cyg01\\anaconda3\\lib\\site-packages (from pandas>=1.5.3->ortoolpy) (2.8.2)\n",
      "Requirement already satisfied: pytz>=2020.1 in c:\\users\\cyg01\\anaconda3\\lib\\site-packages (from pandas>=1.5.3->ortoolpy) (2023.3.post1)\n",
      "Requirement already satisfied: tzdata>=2022.1 in c:\\users\\cyg01\\anaconda3\\lib\\site-packages (from pandas>=1.5.3->ortoolpy) (2023.3)\n",
      "Requirement already satisfied: six>=1.5 in c:\\users\\cyg01\\anaconda3\\lib\\site-packages (from python-dateutil>=2.8.2->pandas>=1.5.3->ortoolpy) (1.16.0)\n"
     ]
    }
   ],
   "source": [
    "!pip install ortoolpy"
   ]
  },
  {
   "cell_type": "code",
   "execution_count": 4,
   "id": "be2ab411",
   "metadata": {},
   "outputs": [],
   "source": [
    "import numpy as np\n",
    "import pandas as pd\n",
    "from itertools import product\n",
    "from pulp import LpVariable, lpSum, value\n",
    "from ortoolpy import model_min, addvars, addvals"
   ]
  },
  {
   "cell_type": "markdown",
   "id": "5e1d7b15",
   "metadata": {},
   "source": [
    "### 최적화 문제\n",
    ": 어떤 목적함수의 결과값을 최적화시키는 파라미터의 조합을 찾는 문제\n",
    "- 최적화 문제의 본질은 파라미터를 어느 방향으로 얼만큼 움직여서 함수 값을 최적화시킬 수 있을 것인지에 대한 것\n",
    "- 조금씩 파라미터의 값과 위치를 변경해가며 더 이상 변경할 수 없는 지점에 도달할 수 있는 파라미터를 찾는 것\n",
    "- local minima: 더 이상 최적화 시킬 수 없는 지점"
   ]
  },
  {
   "cell_type": "code",
   "execution_count": 5,
   "id": "bff5762d",
   "metadata": {},
   "outputs": [],
   "source": [
    "#데이터 불러오기\n",
    "df_tc = pd.read_csv('trans_cost.csv', index_col=\"공장\")\n",
    "df_demand = pd.read_csv('demand.csv')\n",
    "df_supply = pd.read_csv('supply.csv')"
   ]
  },
  {
   "cell_type": "code",
   "execution_count": 6,
   "id": "3a62fb0a",
   "metadata": {},
   "outputs": [
    {
     "data": {
      "text/html": [
       "<div>\n",
       "<style scoped>\n",
       "    .dataframe tbody tr th:only-of-type {\n",
       "        vertical-align: middle;\n",
       "    }\n",
       "\n",
       "    .dataframe tbody tr th {\n",
       "        vertical-align: top;\n",
       "    }\n",
       "\n",
       "    .dataframe thead th {\n",
       "        text-align: right;\n",
       "    }\n",
       "</style>\n",
       "<table border=\"1\" class=\"dataframe\">\n",
       "  <thead>\n",
       "    <tr style=\"text-align: right;\">\n",
       "      <th></th>\n",
       "      <th>F1</th>\n",
       "      <th>F2</th>\n",
       "      <th>F3</th>\n",
       "      <th>F4</th>\n",
       "    </tr>\n",
       "    <tr>\n",
       "      <th>공장</th>\n",
       "      <th></th>\n",
       "      <th></th>\n",
       "      <th></th>\n",
       "      <th></th>\n",
       "    </tr>\n",
       "  </thead>\n",
       "  <tbody>\n",
       "    <tr>\n",
       "      <th>W1</th>\n",
       "      <td>10</td>\n",
       "      <td>10</td>\n",
       "      <td>11</td>\n",
       "      <td>27</td>\n",
       "    </tr>\n",
       "    <tr>\n",
       "      <th>W2</th>\n",
       "      <td>18</td>\n",
       "      <td>21</td>\n",
       "      <td>12</td>\n",
       "      <td>14</td>\n",
       "    </tr>\n",
       "    <tr>\n",
       "      <th>W3</th>\n",
       "      <td>15</td>\n",
       "      <td>12</td>\n",
       "      <td>14</td>\n",
       "      <td>12</td>\n",
       "    </tr>\n",
       "  </tbody>\n",
       "</table>\n",
       "</div>"
      ],
      "text/plain": [
       "    F1  F2  F3  F4\n",
       "공장                \n",
       "W1  10  10  11  27\n",
       "W2  18  21  12  14\n",
       "W3  15  12  14  12"
      ]
     },
     "execution_count": 6,
     "metadata": {},
     "output_type": "execute_result"
    }
   ],
   "source": [
    "df_tc.head()"
   ]
  },
  {
   "cell_type": "code",
   "execution_count": 7,
   "id": "6c442bc7",
   "metadata": {},
   "outputs": [
    {
     "data": {
      "text/html": [
       "<div>\n",
       "<style scoped>\n",
       "    .dataframe tbody tr th:only-of-type {\n",
       "        vertical-align: middle;\n",
       "    }\n",
       "\n",
       "    .dataframe tbody tr th {\n",
       "        vertical-align: top;\n",
       "    }\n",
       "\n",
       "    .dataframe thead th {\n",
       "        text-align: right;\n",
       "    }\n",
       "</style>\n",
       "<table border=\"1\" class=\"dataframe\">\n",
       "  <thead>\n",
       "    <tr style=\"text-align: right;\">\n",
       "      <th></th>\n",
       "      <th>F1</th>\n",
       "      <th>F2</th>\n",
       "      <th>F3</th>\n",
       "      <th>F4</th>\n",
       "    </tr>\n",
       "  </thead>\n",
       "  <tbody>\n",
       "    <tr>\n",
       "      <th>0</th>\n",
       "      <td>28</td>\n",
       "      <td>29</td>\n",
       "      <td>31</td>\n",
       "      <td>25</td>\n",
       "    </tr>\n",
       "  </tbody>\n",
       "</table>\n",
       "</div>"
      ],
      "text/plain": [
       "   F1  F2  F3  F4\n",
       "0  28  29  31  25"
      ]
     },
     "execution_count": 7,
     "metadata": {},
     "output_type": "execute_result"
    }
   ],
   "source": [
    "df_demand.head()"
   ]
  },
  {
   "cell_type": "code",
   "execution_count": 8,
   "id": "a83d8821",
   "metadata": {},
   "outputs": [
    {
     "data": {
      "text/html": [
       "<div>\n",
       "<style scoped>\n",
       "    .dataframe tbody tr th:only-of-type {\n",
       "        vertical-align: middle;\n",
       "    }\n",
       "\n",
       "    .dataframe tbody tr th {\n",
       "        vertical-align: top;\n",
       "    }\n",
       "\n",
       "    .dataframe thead th {\n",
       "        text-align: right;\n",
       "    }\n",
       "</style>\n",
       "<table border=\"1\" class=\"dataframe\">\n",
       "  <thead>\n",
       "    <tr style=\"text-align: right;\">\n",
       "      <th></th>\n",
       "      <th>W1</th>\n",
       "      <th>W2</th>\n",
       "      <th>W3</th>\n",
       "    </tr>\n",
       "  </thead>\n",
       "  <tbody>\n",
       "    <tr>\n",
       "      <th>0</th>\n",
       "      <td>35</td>\n",
       "      <td>41</td>\n",
       "      <td>42</td>\n",
       "    </tr>\n",
       "  </tbody>\n",
       "</table>\n",
       "</div>"
      ],
      "text/plain": [
       "   W1  W2  W3\n",
       "0  35  41  42"
      ]
     },
     "execution_count": 8,
     "metadata": {},
     "output_type": "execute_result"
    }
   ],
   "source": [
    "df_supply.head()"
   ]
  },
  {
   "cell_type": "code",
   "execution_count": 9,
   "id": "65d23bf1",
   "metadata": {},
   "outputs": [
    {
     "name": "stdout",
     "output_type": "stream",
     "text": [
      "    F1  F2  F3  F4\n",
      "공장                \n",
      "W1  28   7   0   0\n",
      "W2   0   0  31   5\n",
      "W3   0  22   0  20\n",
      "총 운송 비용:1296.0\n"
     ]
    }
   ],
   "source": [
    "#초기 설정\n",
    "np.random.seed(1) #랜덤한 결과의 재현성 보장\n",
    "nw = len(df_tc.index) #공장의 수\n",
    "nf = len(df_tc.columns) #고객의 수\n",
    "pr = list(product(range(nw), range(nf))) # 반환: (0,0), (0,1) 등 튜플들의 리스트\n",
    "#product: 여러 개의 iterable에서 모든 가능한 조합 생성\n",
    "\n",
    "\n",
    "\n",
    "#수리 모델 작성 (중요!!!)\n",
    "# 목적함수 m1을 lpSum을 이용해 정의 목적함수 m1을 lpSum을 이용해 정의\n",
    "m1 = model_min() #최소화를 실행하는 모델 m1 정의\n",
    "v1 = {(i,j):LpVariable('v%d_%d'%(i,j), lowBound=0) for i,j in pr}\n",
    "\n",
    "m1 += lpSum(df_tc.iloc[i][j]*v1[i,j] for i,j in pr)\n",
    "\n",
    "# 제약 조건을 m1에 정의\n",
    "for i in range(nw):\n",
    "    m1 += lpSum(v1[i,j] for j in range(nf)) <= df_supply.iloc[0][i]\n",
    "for j in range(nf):\n",
    "    m1 += lpSum(v1[i,j] for i in range(nw)) >= df_demand.iloc[0][j]\n",
    "m1.solve()\n",
    "\n",
    "#총 운송 비용 계산\n",
    "df_tr_sol = df_tc.copy()\n",
    "total_cost = 0\n",
    "for k,x in v1.items():\n",
    "    i,j = k[0],k[1]\n",
    "    df_tr_sol.iloc[i][j] = value(x)\n",
    "    total_cost += df_tc.iloc[i][j]*value(x)\n",
    "    \n",
    "print(df_tr_sol)\n",
    "print(\"총 운송 비용:\"+str(total_cost))"
   ]
  },
  {
   "cell_type": "markdown",
   "id": "51a0e1c4",
   "metadata": {},
   "source": [
    "[수리모델 추가설명]\n",
    "- LpVariable: 의사결정 변수 생성. 각 결정 변수에 대해 최소값(lowBound)과 최대값(upBound) 설정\n",
    "- '%d_%d'%(i,j): 문자열 포매팅\n",
    "    - 결과: i=2, j=3일 때 v2_3\n",
    "- lpSum: 목적 함수 정의 (총 운송 비용)\n",
    "    - 각 (i,j) 조합에 대해 (운송비용)*(운송량)을 모두 더한 것"
   ]
  },
  {
   "cell_type": "markdown",
   "id": "0724240f",
   "metadata": {},
   "source": [
    "## 62: 최적 운송 경로를 네트워크로 확인"
   ]
  },
  {
   "cell_type": "code",
   "execution_count": 10,
   "id": "5e525869",
   "metadata": {},
   "outputs": [
    {
     "data": {
      "image/png": "[encoded data removed]",
      "text/plain": [
       "<Figure size 640x480 with 1 Axes>"
      ]
     },
     "metadata": {},
     "output_type": "display_data"
    }
   ],
   "source": [
    "import pandas as pd\n",
    "import numpy as np\n",
    "import matplotlib.pyplot as plt\n",
    "import networkx as nx\n",
    "\n",
    "# 데이터 불러오기\n",
    "df_tr = df_tr_sol.copy()\n",
    "df_pos = pd.read_csv('trans_route_pos.csv')\n",
    "\n",
    "# 객체 생성\n",
    "G = nx.Graph()\n",
    "\n",
    "# 노드 설정\n",
    "for i in range(len(df_pos.columns)):\n",
    "    G.add_node(df_pos.columns[i])\n",
    "\n",
    "# 엣지 설정 & 엣지의 가중치 리스트화\n",
    "num_pre = 0\n",
    "edge_weights = []\n",
    "size = 0.1\n",
    "for i in range(len(df_pos.columns)):\n",
    "    for j in range(len(df_pos.columns)):\n",
    "        if not (i==j):\n",
    "            # 엣지 추가\n",
    "            G.add_edge(df_pos.columns[i],df_pos.columns[j])\n",
    "            # 엣지 가중치 추가\n",
    "            if num_pre<len(G.edges):\n",
    "                num_pre = len(G.edges)\n",
    "                weight = 0\n",
    "                if (df_pos.columns[i] in df_tr.columns)and(df_pos.columns[j] in df_tr.index):\n",
    "                    if df_tr[df_pos.columns[i]][df_pos.columns[j]]:\n",
    "                        weight = df_tr[df_pos.columns[i]][df_pos.columns[j]]*size\n",
    "                elif(df_pos.columns[j] in df_tr.columns)and(df_pos.columns[i] in df_tr.index):\n",
    "                    if df_tr[df_pos.columns[j]][df_pos.columns[i]]:\n",
    "                        weight = df_tr[df_pos.columns[j]][df_pos.columns[i]]*size\n",
    "                edge_weights.append(weight)\n",
    "                \n",
    "\n",
    "# 좌표 설정\n",
    "pos = {}\n",
    "for i in range(len(df_pos.columns)):\n",
    "    node = df_pos.columns[i]\n",
    "    pos[node] = (df_pos[node][0],df_pos[node][1])\n",
    "    \n",
    "# 그리기\n",
    "nx.draw(G, pos, with_labels=True,font_size=16, node_size = 1000, node_color='k', font_color='w', width=edge_weights)\n",
    "\n",
    "# 표시\n",
    "plt.show()"
   ]
  },
  {
   "cell_type": "markdown",
   "id": "72c86fea",
   "metadata": {},
   "source": [
    "## 63: 최적 운송 경로가 제약 조건 만족하는지 확인"
   ]
  },
  {
   "cell_type": "markdown",
   "id": "f08fac6c",
   "metadata": {},
   "source": [
    "60번에서 작성한 제약 조건을 계산하는 함수를 이용해서 계산된 운송 경로가 제약 조건을 만족하는지 확인"
   ]
  },
  {
   "cell_type": "code",
   "execution_count": 11,
   "id": "9866b7e7",
   "metadata": {},
   "outputs": [
    {
     "name": "stdout",
     "output_type": "stream",
     "text": [
      "수요 조건 계산 결과:[1. 1. 1. 1.]\n",
      "공급 조건 계산 결과:[1. 1. 1.]\n"
     ]
    }
   ],
   "source": [
    "import pandas as pd\n",
    "import numpy as np\n",
    "\n",
    "# 데이터 불러오기\n",
    "df_demand = pd.read_csv('demand.csv')\n",
    "df_supply = pd.read_csv('supply.csv')\n",
    "\n",
    "# 제약조건 계산함수\n",
    "# 수요측\n",
    "def condition_demand(df_tr,df_demand):\n",
    "    flag = np.zeros(len(df_demand.columns))\n",
    "    for i in range(len(df_demand.columns)):\n",
    "        temp_sum = sum(df_tr[df_demand.columns[i]])\n",
    "        if (temp_sum>=df_demand.iloc[0][i]):\n",
    "            flag[i] = 1\n",
    "    return flag\n",
    "            \n",
    "# 공급측\n",
    "def condition_supply(df_tr,df_supply):\n",
    "    flag = np.zeros(len(df_supply.columns))\n",
    "    for i in range(len(df_supply.columns)):\n",
    "        temp_sum = sum(df_tr.loc[df_supply.columns[i]])\n",
    "        if temp_sum<=df_supply.iloc[0][i]:\n",
    "            flag[i] = 1\n",
    "    return flag\n",
    "\n",
    "print(\"수요 조건 계산 결과:\"+str(condition_demand(df_tr_sol,df_demand)))\n",
    "print(\"공급 조건 계산 결과:\"+str(condition_supply(df_tr_sol,df_supply)))"
   ]
  },
  {
   "cell_type": "markdown",
   "id": "2c8e066f",
   "metadata": {},
   "source": [
    "## 64: 생산 계획 데이터 불러오기"
   ]
  },
  {
   "cell_type": "markdown",
   "id": "3ca3af9d",
   "metadata": {},
   "source": [
    "물류 네트워크 전체에는 운송과 더불어 생산 계획도 중요한 요소"
   ]
  },
  {
   "cell_type": "code",
   "execution_count": 12,
   "id": "a32559b8",
   "metadata": {},
   "outputs": [
    {
     "name": "stdout",
     "output_type": "stream",
     "text": [
      "     원료1  원료2  원료3\n",
      "제품                \n",
      "제품1    1    4    3\n",
      "제품2    2    4    1\n",
      "      이익\n",
      "제품      \n",
      "제품1  5.0\n",
      "제품2  4.0\n",
      "    원료1  원료2  원료3\n",
      "항목               \n",
      "재고   40   80   50\n",
      "      생산량\n",
      "제품       \n",
      "제품1    16\n",
      "제품2     0\n"
     ]
    }
   ],
   "source": [
    "import pandas as pd\n",
    "\n",
    "df_material = pd.read_csv('product_plan_material.csv', index_col=\"제품\")\n",
    "print(df_material)\n",
    "df_profit = pd.read_csv('product_plan_profit.csv', index_col=\"제품\")\n",
    "print(df_profit)\n",
    "df_stock = pd.read_csv('product_plan_stock.csv', index_col=\"항목\")\n",
    "print(df_stock)\n",
    "df_plan = pd.read_csv('product_plan.csv', index_col=\"제품\")\n",
    "print(df_plan)"
   ]
  },
  {
   "cell_type": "markdown",
   "id": "9beb446c",
   "metadata": {},
   "source": [
    "## 65: 이익 계산하는 함수 만들기"
   ]
  },
  {
   "cell_type": "markdown",
   "id": "912e22d6",
   "metadata": {},
   "source": [
    "생산계획 최적화의 흐름 (최적화 문제의 일반적인 흐름과 동일)\n",
    "1. 목적함수와 제약조건 정의\n",
    "2. 제약 조건 아래서 목적함수를 최소화하는 변수의 조합 찾음\n",
    "3. 이익을 계산할 함수 작성\n",
    "4. 그것을 목적함수로 최대화"
   ]
  },
  {
   "cell_type": "code",
   "execution_count": 13,
   "id": "e309d013",
   "metadata": {},
   "outputs": [
    {
     "name": "stdout",
     "output_type": "stream",
     "text": [
      "총 이익:80.0\n"
     ]
    }
   ],
   "source": [
    "def product_plan(df_profit, df_plan):\n",
    "    profit = 0\n",
    "    for i in range(len(df_profit.index)):\n",
    "        for j in range(len(df_plan.columns)):\n",
    "            profit += df_profit.iloc[i][j]*df_plan.iloc[i][j]\n",
    "    return profit\n",
    "\n",
    "print(\"총 이익:\" + str(product_plan(df_profit, df_plan)))"
   ]
  },
  {
   "cell_type": "markdown",
   "id": "e943975b",
   "metadata": {},
   "source": [
    "## 66: 생산 최적화 문제 풀기"
   ]
  },
  {
   "cell_type": "markdown",
   "id": "629af92e",
   "metadata": {},
   "source": [
    "이익함수의 최대활르 목적으로 최적화 계산 진행"
   ]
  },
  {
   "cell_type": "code",
   "execution_count": 14,
   "id": "573e2d33",
   "metadata": {},
   "outputs": [
    {
     "name": "stdout",
     "output_type": "stream",
     "text": [
      "      생산량\n",
      "제품       \n",
      "제품1    15\n",
      "제품2     5\n",
      "총 이익:95.0\n"
     ]
    }
   ],
   "source": [
    "import pandas as pd\n",
    "from pulp import LpVariable, lpSum, value\n",
    "from ortoolpy import model_max, addvars, addvals\n",
    "\n",
    "df = df_material.copy()\n",
    "inv = df_stock\n",
    "\n",
    "m = model_max() # '최대화' 계산 준비\n",
    "v1 = {(i):LpVariable('v%d'%(i), lowBound=0) for i in range(len(df_profit))}\n",
    "m += lpSum(df_profit.iloc[i]*v1[i] for i in range(len(df_profit)))\n",
    "for i in range(len(df_material.columns)):\n",
    "    m += lpSum(df_material.iloc[j,i]*v1[j] for j in range(len(df_profit))) <= df_stock.iloc[:, i]\n",
    "m.solve()\n",
    "\n",
    "df_plan_sol = df_plan.copy()\n",
    "for k, x in v1.items():\n",
    "    df_plan_sol.iloc[k] = value(x)\n",
    "print(df_plan_sol)\n",
    "print(\"총 이익:\" + str(value(m.objective)))"
   ]
  },
  {
   "cell_type": "markdown",
   "id": "c46b2c7f",
   "metadata": {},
   "source": [
    "## 67: 최적 생산 계획이 제약 조건 만족하는지 확인"
   ]
  },
  {
   "cell_type": "markdown",
   "id": "16c2601b",
   "metadata": {},
   "source": [
    "(주의) 최적화 계산을 한 결과를 이해하지 않고 그냥 받아들이면 안됨\n",
    "- 최적화 계산 결과를 '여러 가지 방법을 이용해서' 이해할 필요 있음"
   ]
  },
  {
   "cell_type": "code",
   "execution_count": 15,
   "id": "ba623339",
   "metadata": {},
   "outputs": [
    {
     "name": "stdout",
     "output_type": "stream",
     "text": [
      "원료1  사용량:25.0, 재고:40.0\n",
      "원료2  사용량:80.0, 재고:80.0\n",
      "원료3  사용량:50.0, 재고:50.0\n",
      "제약 조건 계산 결과:[1. 1. 1.]\n"
     ]
    }
   ],
   "source": [
    "#제약 조건 계산 함수\n",
    "\n",
    "def condition_stock(df_plan, df_material, df_stock):\n",
    "    flag = np.zeros(len(df_material.columns))\n",
    "    for i in range(len(df_material.columns)):\n",
    "        temp_sum = 0\n",
    "        for j in range(len(df_material.index)):\n",
    "            temp_sum = temp_sum + df_material.iloc[j][i]*float(df_plan.iloc[j])\n",
    "        if (temp_sum <= float(df_stock.iloc[0][i])):\n",
    "            flag[i] = 1\n",
    "        print(df_material.columns[i] + \"  사용량:\" + str(temp_sum) + \", 재고:\" + str(float(df_stock.iloc[0][i])))\n",
    "    return flag\n",
    "\n",
    "print(\"제약 조건 계산 결과:\" + str(condition_stock(df_plan_sol, df_material, df_stock)))"
   ]
  },
  {
   "cell_type": "markdown",
   "id": "7f6e2c11",
   "metadata": {},
   "source": [
    "## 68: 물류 네트워크 설계 문제 풀기"
   ]
  },
  {
   "cell_type": "markdown",
   "id": "f9419448",
   "metadata": {},
   "source": [
    "실제 물류 네트워크는 운송 경로와 생산 계획 최적화 문제를 동시에 고려해야 함\n",
    "- 운송 비용과 제조 비용이 수요를 만족하면서 최소가 되게 정식화\n",
    "- 목적함수: 운송 비용과 제조 비용의 함\n",
    "- 제약조건: 각 대리점의 판매 수가 수요 수를 넘는 것으로 정의"
   ]
  },
  {
   "cell_type": "code",
   "execution_count": 21,
   "id": "b153fb79",
   "metadata": {},
   "outputs": [
    {
     "name": "stdout",
     "output_type": "stream",
     "text": [
      "  대리점 공장  운송비\n",
      "0   P  X    1\n",
      "1   P  Y    2\n",
      "2   Q  X    3\n",
      "3   Q  Y    1\n",
      "  대리점 제품  수요\n",
      "0   P  A  10\n",
      "1   P  B  10\n",
      "2   Q  A  20\n",
      "3   Q  B  20\n",
      "  공장  레인 제품  하한    상한  생산비\n",
      "0  X   0  A   0   inf  1.0\n",
      "3  X   1  B   0   inf  1.0\n",
      "4  Y   0  A   0  10.0  3.0\n",
      "6  Y   1  A   0   inf  5.0\n",
      "7  Y   1  B   0   inf  3.0\n",
      "  공장  레인 제품  하한    상한  생산비     VarY  ValY\n",
      "0  X   0  A   0   inf  1.0  v000009  20.0\n",
      "3  X   1  B   0   inf  1.0  v000010  10.0\n",
      "4  Y   0  A   0  10.0  3.0  v000011  10.0\n",
      "6  Y   1  A   0   inf  5.0  v000012   0.0\n",
      "7  Y   1  B   0   inf  3.0  v000013  20.0\n",
      "  대리점 공장  운송비 제품     VarX  ValX\n",
      "0   P  X    1  A  v000001  10.0\n",
      "1   P  X    1  B  v000002  10.0\n",
      "2   Q  X    3  A  v000003  10.0\n",
      "3   Q  X    3  B  v000004   0.0\n",
      "4   P  Y    2  A  v000005   0.0\n",
      "5   P  Y    2  B  v000006   0.0\n",
      "6   Q  Y    1  A  v000007  10.0\n",
      "7   Q  Y    1  B  v000008  20.0\n"
     ]
    }
   ],
   "source": [
    "import numpy as np\n",
    "import pandas as pd\n",
    "\n",
    "제품 = list('AB')\n",
    "대리점 = list('PQ')\n",
    "공장 = list('XY')\n",
    "레인 = (2,2)\n",
    "\n",
    "# 운송비 #\n",
    "tbdi = pd.DataFrame(((j,k) for j in 대리점 for k in 공장), columns=['대리점','공장'])\n",
    "tbdi['운송비'] = [1,2,3,1]\n",
    "print(tbdi)\n",
    "\n",
    "# 수요 #\n",
    "tbde = pd.DataFrame(((j,i) for j in 대리점 for i in 제품), columns=['대리점','제품'])\n",
    "tbde['수요'] = [10,10,20,20]\n",
    "print(tbde)\n",
    "\n",
    "# 생산 #\n",
    "tbfa = pd.DataFrame(((k,l,i,0,np.inf) for k,nl in zip (공장,레인) for l in range(nl) for i in 제품), \n",
    "                    columns=['공장','레인','제품','하한','상한'])\n",
    "tbfa['생산비'] = [1,np.nan,np.nan,1,3,np.nan,5,3]\n",
    "tbfa.dropna(inplace=True)\n",
    "tbfa.loc[4,'상한']=10\n",
    "print(tbfa)\n",
    "\n",
    "from ortoolpy import logistics_network\n",
    "_, tbdi2, _ = logistics_network(tbde, tbdi, tbfa,dep = \"대리점\", dem = \"수요\",fac = \"공장\",\n",
    "                                prd = \"제품\",tcs = \"운송비\",pcs = \"생산비\",lwb = \"하한\",upb = \"상한\")\n",
    "\n",
    "print(tbfa)\n",
    "print(tbdi2)"
   ]
  },
  {
   "cell_type": "markdown",
   "id": "88094c4b",
   "metadata": {},
   "source": [
    "- ortoolpy: Google의 OR-Tools 라이브러리를 쉽게 사용할 수 있도록 도와주는 Python 라이브러리\n",
    "    - logistics_network: 물류 네트워크 최적화 문제를 쉽게 해결할 수 있도록 제공되는 함수\n",
    "    - 여러 창고에서 여러 고객에게 물건을 배송할 때의 최적 경로 계산,\n",
    "    - 공금지와 수요지 사이의 물류 비용을 최소화하려는 최적 네트워크 구축\n",
    "    - 과 같은 문제들을 쉽게 풀 수 있게 도와줌"
   ]
  },
  {
   "cell_type": "markdown",
   "id": "ebd131bc",
   "metadata": {},
   "source": [
    "## 69: 최적 네트워크의 운송 비용과 그 내역 계산"
   ]
  },
  {
   "cell_type": "code",
   "execution_count": 22,
   "id": "af5861ae",
   "metadata": {},
   "outputs": [
    {
     "data": {
      "text/html": [
       "<div>\n",
       "<style scoped>\n",
       "    .dataframe tbody tr th:only-of-type {\n",
       "        vertical-align: middle;\n",
       "    }\n",
       "\n",
       "    .dataframe tbody tr th {\n",
       "        vertical-align: top;\n",
       "    }\n",
       "\n",
       "    .dataframe thead th {\n",
       "        text-align: right;\n",
       "    }\n",
       "</style>\n",
       "<table border=\"1\" class=\"dataframe\">\n",
       "  <thead>\n",
       "    <tr style=\"text-align: right;\">\n",
       "      <th></th>\n",
       "      <th>공장</th>\n",
       "      <th>대리점</th>\n",
       "      <th>운송비</th>\n",
       "      <th>제품</th>\n",
       "      <th>VarX</th>\n",
       "      <th>ValX</th>\n",
       "    </tr>\n",
       "  </thead>\n",
       "  <tbody>\n",
       "    <tr>\n",
       "      <th>0</th>\n",
       "      <td>X</td>\n",
       "      <td>P</td>\n",
       "      <td>1</td>\n",
       "      <td>A</td>\n",
       "      <td>v000001</td>\n",
       "      <td>10.0</td>\n",
       "    </tr>\n",
       "    <tr>\n",
       "      <th>1</th>\n",
       "      <td>X</td>\n",
       "      <td>P</td>\n",
       "      <td>1</td>\n",
       "      <td>B</td>\n",
       "      <td>v000002</td>\n",
       "      <td>10.0</td>\n",
       "    </tr>\n",
       "    <tr>\n",
       "      <th>2</th>\n",
       "      <td>X</td>\n",
       "      <td>Q</td>\n",
       "      <td>3</td>\n",
       "      <td>A</td>\n",
       "      <td>v000003</td>\n",
       "      <td>10.0</td>\n",
       "    </tr>\n",
       "    <tr>\n",
       "      <th>3</th>\n",
       "      <td>X</td>\n",
       "      <td>Q</td>\n",
       "      <td>3</td>\n",
       "      <td>B</td>\n",
       "      <td>v000004</td>\n",
       "      <td>0.0</td>\n",
       "    </tr>\n",
       "    <tr>\n",
       "      <th>4</th>\n",
       "      <td>Y</td>\n",
       "      <td>P</td>\n",
       "      <td>2</td>\n",
       "      <td>A</td>\n",
       "      <td>v000005</td>\n",
       "      <td>0.0</td>\n",
       "    </tr>\n",
       "    <tr>\n",
       "      <th>5</th>\n",
       "      <td>Y</td>\n",
       "      <td>P</td>\n",
       "      <td>2</td>\n",
       "      <td>B</td>\n",
       "      <td>v000006</td>\n",
       "      <td>0.0</td>\n",
       "    </tr>\n",
       "    <tr>\n",
       "      <th>6</th>\n",
       "      <td>Y</td>\n",
       "      <td>Q</td>\n",
       "      <td>1</td>\n",
       "      <td>A</td>\n",
       "      <td>v000007</td>\n",
       "      <td>10.0</td>\n",
       "    </tr>\n",
       "    <tr>\n",
       "      <th>7</th>\n",
       "      <td>Y</td>\n",
       "      <td>Q</td>\n",
       "      <td>1</td>\n",
       "      <td>B</td>\n",
       "      <td>v000008</td>\n",
       "      <td>20.0</td>\n",
       "    </tr>\n",
       "  </tbody>\n",
       "</table>\n",
       "</div>"
      ],
      "text/plain": [
       "  공장 대리점  운송비 제품     VarX  ValX\n",
       "0  X   P    1  A  v000001  10.0\n",
       "1  X   P    1  B  v000002  10.0\n",
       "2  X   Q    3  A  v000003  10.0\n",
       "3  X   Q    3  B  v000004   0.0\n",
       "4  Y   P    2  A  v000005   0.0\n",
       "5  Y   P    2  B  v000006   0.0\n",
       "6  Y   Q    1  A  v000007  10.0\n",
       "7  Y   Q    1  B  v000008  20.0"
      ]
     },
     "execution_count": 22,
     "metadata": {},
     "output_type": "execute_result"
    }
   ],
   "source": [
    "tbdi2 = tbdi2[[\"공장\",\"대리점\",\"운송비\",\"제품\",\"VarX\",\"ValX\"]]\n",
    "tbdi2"
   ]
  },
  {
   "cell_type": "markdown",
   "id": "2eff9a79",
   "metadata": {},
   "source": [
    "## 70: 최적 네트워크의 생산 비용과 그 내역 계산"
   ]
  },
  {
   "cell_type": "code",
   "execution_count": 23,
   "id": "3aa63633",
   "metadata": {},
   "outputs": [
    {
     "data": {
      "text/html": [
       "<div>\n",
       "<style scoped>\n",
       "    .dataframe tbody tr th:only-of-type {\n",
       "        vertical-align: middle;\n",
       "    }\n",
       "\n",
       "    .dataframe tbody tr th {\n",
       "        vertical-align: top;\n",
       "    }\n",
       "\n",
       "    .dataframe thead th {\n",
       "        text-align: right;\n",
       "    }\n",
       "</style>\n",
       "<table border=\"1\" class=\"dataframe\">\n",
       "  <thead>\n",
       "    <tr style=\"text-align: right;\">\n",
       "      <th></th>\n",
       "      <th>공장</th>\n",
       "      <th>레인</th>\n",
       "      <th>제품</th>\n",
       "      <th>하한</th>\n",
       "      <th>상한</th>\n",
       "      <th>생산비</th>\n",
       "      <th>VarY</th>\n",
       "      <th>ValY</th>\n",
       "    </tr>\n",
       "  </thead>\n",
       "  <tbody>\n",
       "    <tr>\n",
       "      <th>0</th>\n",
       "      <td>X</td>\n",
       "      <td>0</td>\n",
       "      <td>A</td>\n",
       "      <td>0</td>\n",
       "      <td>inf</td>\n",
       "      <td>1.0</td>\n",
       "      <td>v000009</td>\n",
       "      <td>20.0</td>\n",
       "    </tr>\n",
       "    <tr>\n",
       "      <th>3</th>\n",
       "      <td>X</td>\n",
       "      <td>1</td>\n",
       "      <td>B</td>\n",
       "      <td>0</td>\n",
       "      <td>inf</td>\n",
       "      <td>1.0</td>\n",
       "      <td>v000010</td>\n",
       "      <td>10.0</td>\n",
       "    </tr>\n",
       "    <tr>\n",
       "      <th>4</th>\n",
       "      <td>Y</td>\n",
       "      <td>0</td>\n",
       "      <td>A</td>\n",
       "      <td>0</td>\n",
       "      <td>10.0</td>\n",
       "      <td>3.0</td>\n",
       "      <td>v000011</td>\n",
       "      <td>10.0</td>\n",
       "    </tr>\n",
       "    <tr>\n",
       "      <th>6</th>\n",
       "      <td>Y</td>\n",
       "      <td>1</td>\n",
       "      <td>A</td>\n",
       "      <td>0</td>\n",
       "      <td>inf</td>\n",
       "      <td>5.0</td>\n",
       "      <td>v000012</td>\n",
       "      <td>0.0</td>\n",
       "    </tr>\n",
       "    <tr>\n",
       "      <th>7</th>\n",
       "      <td>Y</td>\n",
       "      <td>1</td>\n",
       "      <td>B</td>\n",
       "      <td>0</td>\n",
       "      <td>inf</td>\n",
       "      <td>3.0</td>\n",
       "      <td>v000013</td>\n",
       "      <td>20.0</td>\n",
       "    </tr>\n",
       "  </tbody>\n",
       "</table>\n",
       "</div>"
      ],
      "text/plain": [
       "  공장  레인 제품  하한    상한  생산비     VarY  ValY\n",
       "0  X   0  A   0   inf  1.0  v000009  20.0\n",
       "3  X   1  B   0   inf  1.0  v000010  10.0\n",
       "4  Y   0  A   0  10.0  3.0  v000011  10.0\n",
       "6  Y   1  A   0   inf  5.0  v000012   0.0\n",
       "7  Y   1  B   0   inf  3.0  v000013  20.0"
      ]
     },
     "execution_count": 23,
     "metadata": {},
     "output_type": "execute_result"
    }
   ],
   "source": [
    "tbfa"
   ]
  },
  {
   "cell_type": "code",
   "execution_count": 24,
   "id": "56687bf7",
   "metadata": {},
   "outputs": [
    {
     "name": "stdout",
     "output_type": "stream",
     "text": [
      "총 생산비:120.0\n"
     ]
    }
   ],
   "source": [
    "product_cost = 0\n",
    "for i in range(len(tbfa.index)):\n",
    "    product_cost += tbfa[\"생산비\"].iloc[i]*tbfa[\"ValY\"].iloc[i]\n",
    "print(\"총 생산비:\" + str(product_cost))"
   ]
  },
  {
   "cell_type": "code",
   "execution_count": null,
   "id": "d825db2e",
   "metadata": {},
   "outputs": [],
   "source": []
  }
 ],
 "metadata": {
  "kernelspec": {
   "display_name": "Python 3 (ipykernel)",
   "language": "python",
   "name": "python3"
  },
  "language_info": {
   "codemirror_mode": {
    "name": "ipython",
    "version": 3
   },
   "file_extension": ".py",
   "mimetype": "text/x-python",
   "name": "python",
   "nbconvert_exporter": "python",
   "pygments_lexer": "ipython3",
   "version": "3.11.7"
  }
 },
 "nbformat": 4,
 "nbformat_minor": 5
}
